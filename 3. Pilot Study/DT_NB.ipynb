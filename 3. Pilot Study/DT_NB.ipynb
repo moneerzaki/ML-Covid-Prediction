{
  "nbformat": 4,
  "nbformat_minor": 0,
  "metadata": {
    "colab": {
      "provenance": [],
      "gpuType": "T4"
    },
    "kernelspec": {
      "name": "python3",
      "display_name": "Python 3"
    },
    "language_info": {
      "name": "python"
    },
    "accelerator": "GPU"
  },
  "cells": [
    {
      "cell_type": "code",
      "execution_count": null,
      "metadata": {
        "id": "SmtoAYMHPHUK"
      },
      "outputs": [],
      "source": [
        "### Don't mind about this\n",
        "import warnings\n",
        "warnings.filterwarnings('ignore')\n",
        "###\n",
        "\n",
        "%matplotlib inline\n",
        "import pandas as pd\n",
        "import numpy as np\n",
        "import matplotlib.pyplot as plt\n",
        "import seaborn as sns\n",
        "import matplotlib.pyplot as plt\n",
        "import math\n",
        "import time\n",
        "\n",
        "\n",
        "from sklearn.preprocessing import StandardScaler, LabelEncoder\n",
        "from sklearn.model_selection import train_test_split, cross_val_predict\n",
        "from sklearn.neighbors import KNeighborsClassifier\n",
        "from sklearn.tree import DecisionTreeClassifier\n",
        "from sklearn.metrics import confusion_matrix, accuracy_score, precision_score, recall_score, f1_score\n",
        "from sklearn.naive_bayes import GaussianNB\n"
      ]
    },
    {
      "cell_type": "code",
      "source": [
        "from google.colab import drive\n",
        "drive.mount('/content/drive/')\n",
        "df = pd.read_csv('/content/drive/Shareddrives/IML_Covid/Milestone_3_predataset/Covid.csv')"
      ],
      "metadata": {
        "colab": {
          "base_uri": "https://localhost:8080/"
        },
        "id": "cfWIwH9zP4de",
        "outputId": "2fc30d0b-7dbc-44b4-f24e-84f91ccc035f"
      },
      "execution_count": null,
      "outputs": [
        {
          "output_type": "stream",
          "name": "stdout",
          "text": [
            "Mounted at /content/drive/\n"
          ]
        }
      ]
    },
    {
      "cell_type": "code",
      "source": [
        "df\n",
        "for col in range(df.shape[1]):\n",
        "    # col_num = 2\n",
        "    print(df.columns[col])\n",
        "    print(df.iloc[:,col].unique())"
      ],
      "metadata": {
        "colab": {
          "base_uri": "https://localhost:8080/"
        },
        "id": "StLdPRo6QT8_",
        "outputId": "143b6c60-b92e-408e-b562-166c554671f5"
      },
      "execution_count": null,
      "outputs": [
        {
          "output_type": "stream",
          "name": "stdout",
          "text": [
            "USMER\n",
            "[0 1]\n",
            "SEX\n",
            "[1 0]\n",
            "PATIENT_TYPE\n",
            "[1 0]\n",
            "DEAD\n",
            "[1 0]\n",
            "PNEUMONIA\n",
            "[1 0]\n",
            "AGE\n",
            "[ 65  72  55  53  68  40  64  37  25  38  24  30  48  23  80  61  54  59\n",
            "  45  26  32  49  39  27  57  20  56  47  50  46  43  28  33  16  62  58\n",
            "  36  44  66  52  51  35  19  90  34  22  29  14  31  42  15   1   0  17\n",
            "  41   2  10  12  13   4   7   6   8  60   5  63  75  81  67  18  70  88\n",
            "  85  92  73  74  78  76  82  77  86  71  95  87  83  84  79  69  89   3\n",
            "  97  93 100  91  21 103  11   9  94  96 101 107 102  98  99 109 119 116\n",
            " 105 104 111 114 120 106 108 110 118 117 121 115 113]\n",
            "PREGNANT\n",
            "[0 1]\n",
            "DIABETES\n",
            "[0 1]\n",
            "COPD\n",
            "[0 1]\n",
            "ASTHMA\n",
            "[0 1]\n",
            "INMSUPR\n",
            "[0 1]\n",
            "HIPERTENSION\n",
            "[1 0]\n",
            "OTHER_DISEASE\n",
            "[0 1]\n",
            "CARDIOVASCULAR\n",
            "[0 1]\n",
            "OBESITY\n",
            "[0 1]\n",
            "RENAL_CHRONIC\n",
            "[0 1]\n",
            "TOBACCO\n",
            "[0 1]\n",
            "MEDICAL_UNIT_1\n",
            "[1 0]\n",
            "MEDICAL_UNIT_2\n",
            "[0 1]\n",
            "MEDICAL_UNIT_3\n",
            "[0 1]\n",
            "MEDICAL_UNIT_4\n",
            "[0 1]\n",
            "MEDICAL_UNIT_5\n",
            "[0 1]\n",
            "MEDICAL_UNIT_6\n",
            "[0 1]\n",
            "MEDICAL_UNIT_7\n",
            "[0 1]\n",
            "MEDICAL_UNIT_8\n",
            "[0 1]\n",
            "MEDICAL_UNIT_9\n",
            "[0 1]\n",
            "MEDICAL_UNIT_10\n",
            "[0 1]\n",
            "MEDICAL_UNIT_11\n",
            "[0 1]\n",
            "MEDICAL_UNIT_12\n",
            "[0 1]\n",
            "MEDICAL_UNIT_13\n",
            "[0 1]\n",
            "CLASIFFICATION_FINAL\n",
            "[1 0]\n"
          ]
        }
      ]
    },
    {
      "cell_type": "markdown",
      "source": [
        "# Decision Tree\n"
      ],
      "metadata": {
        "id": "fXi6CL8vU5Q8"
      }
    },
    {
      "cell_type": "code",
      "source": [
        "# Define the age ranges\n",
        "age_ranges = [(0, 2), (3, 12), (13, 19), (20, 39), (40, 59), (60, 79), (80, float('inf'))]\n",
        "# age_labels = ['Infant/Toddler', 'Child', 'Teenager', 'Young Adult', 'Middle-Aged Adult', 'Older Adult', 'Elderly']\n",
        "age_labels = [0, 3, 13, 20, 40, 60, 80]\n",
        "\n",
        "# Replace values in the 'AGE' column with age ranges\n",
        "df['AGE'] = pd.cut(df['AGE'], bins=[age[0] for age in age_ranges] + [float('inf')], labels=age_labels, right=False)\n",
        "\n",
        "# Check the updated DataFrame\n",
        "print(df.head())"
      ],
      "metadata": {
        "colab": {
          "base_uri": "https://localhost:8080/"
        },
        "id": "HktVO7hCUrzY",
        "outputId": "db730587-b0c3-4c2d-a7ff-b1a97c6e325e"
      },
      "execution_count": null,
      "outputs": [
        {
          "output_type": "stream",
          "name": "stdout",
          "text": [
            "   USMER  SEX  PATIENT_TYPE  DEAD  PNEUMONIA AGE  PREGNANT  DIABETES  COPD  \\\n",
            "0      0    1             1     1          1  60         0         0     0   \n",
            "1      0    0             1     1          1  60         0         0     0   \n",
            "2      0    0             0     1          0  40         0         1     0   \n",
            "3      0    1             1     1          0  40         0         0     0   \n",
            "4      0    0             1     1          0  60         0         1     0   \n",
            "\n",
            "   ASTHMA  ...  MEDICAL_UNIT_5  MEDICAL_UNIT_6  MEDICAL_UNIT_7  \\\n",
            "0       0  ...               0               0               0   \n",
            "1       0  ...               0               0               0   \n",
            "2       0  ...               0               0               0   \n",
            "3       0  ...               0               0               0   \n",
            "4       0  ...               0               0               0   \n",
            "\n",
            "   MEDICAL_UNIT_8  MEDICAL_UNIT_9  MEDICAL_UNIT_10  MEDICAL_UNIT_11  \\\n",
            "0               0               0                0                0   \n",
            "1               0               0                0                0   \n",
            "2               0               0                0                0   \n",
            "3               0               0                0                0   \n",
            "4               0               0                0                0   \n",
            "\n",
            "   MEDICAL_UNIT_12  MEDICAL_UNIT_13  CLASIFFICATION_FINAL  \n",
            "0                0                0                     1  \n",
            "1                0                0                     0  \n",
            "2                0                0                     1  \n",
            "3                0                0                     0  \n",
            "4                0                0                     1  \n",
            "\n",
            "[5 rows x 31 columns]\n"
          ]
        }
      ]
    },
    {
      "cell_type": "code",
      "source": [
        "df\n",
        "for col in range(df.shape[1]):\n",
        "    # col_num = 2\n",
        "    print(df.columns[col])\n",
        "    print(df.iloc[:,col].unique())"
      ],
      "metadata": {
        "colab": {
          "base_uri": "https://localhost:8080/"
        },
        "id": "lFtmp9beVRcE",
        "outputId": "49dceffa-5c42-46b5-d6ed-81cddb727a1d"
      },
      "execution_count": null,
      "outputs": [
        {
          "output_type": "stream",
          "name": "stdout",
          "text": [
            "USMER\n",
            "[0 1]\n",
            "SEX\n",
            "[1 0]\n",
            "PATIENT_TYPE\n",
            "[1 0]\n",
            "DEAD\n",
            "[1 0]\n",
            "PNEUMONIA\n",
            "[1 0]\n",
            "AGE\n",
            "[60, 40, 20, 80, 13, 0, 3]\n",
            "Categories (7, int64): [0 < 3 < 13 < 20 < 40 < 60 < 80]\n",
            "PREGNANT\n",
            "[0 1]\n",
            "DIABETES\n",
            "[0 1]\n",
            "COPD\n",
            "[0 1]\n",
            "ASTHMA\n",
            "[0 1]\n",
            "INMSUPR\n",
            "[0 1]\n",
            "HIPERTENSION\n",
            "[1 0]\n",
            "OTHER_DISEASE\n",
            "[0 1]\n",
            "CARDIOVASCULAR\n",
            "[0 1]\n",
            "OBESITY\n",
            "[0 1]\n",
            "RENAL_CHRONIC\n",
            "[0 1]\n",
            "TOBACCO\n",
            "[0 1]\n",
            "MEDICAL_UNIT_1\n",
            "[1 0]\n",
            "MEDICAL_UNIT_2\n",
            "[0 1]\n",
            "MEDICAL_UNIT_3\n",
            "[0 1]\n",
            "MEDICAL_UNIT_4\n",
            "[0 1]\n",
            "MEDICAL_UNIT_5\n",
            "[0 1]\n",
            "MEDICAL_UNIT_6\n",
            "[0 1]\n",
            "MEDICAL_UNIT_7\n",
            "[0 1]\n",
            "MEDICAL_UNIT_8\n",
            "[0 1]\n",
            "MEDICAL_UNIT_9\n",
            "[0 1]\n",
            "MEDICAL_UNIT_10\n",
            "[0 1]\n",
            "MEDICAL_UNIT_11\n",
            "[0 1]\n",
            "MEDICAL_UNIT_12\n",
            "[0 1]\n",
            "MEDICAL_UNIT_13\n",
            "[0 1]\n",
            "CLASIFFICATION_FINAL\n",
            "[1 0]\n"
          ]
        }
      ]
    },
    {
      "cell_type": "code",
      "source": [
        "from sklearn.model_selection import cross_validate\n",
        "from sklearn.metrics import accuracy_score, f1_score, precision_score, recall_score, roc_auc_score, roc_curve, precision_recall_curve, make_scorer, confusion_matrix\n",
        "\n",
        "training_data = df.drop('CLASIFFICATION_FINAL', axis=1)\n",
        "training_label = df['CLASIFFICATION_FINAL']\n",
        "\n",
        "scoring_metrics = {\n",
        "    'accuracy': make_scorer(accuracy_score),\n",
        "    'precision': make_scorer(precision_score),\n",
        "    'recall': make_scorer(recall_score),\n",
        "    'f1': make_scorer(f1_score),\n",
        "    'roc_auc_score': make_scorer(roc_auc_score),\n",
        "}"
      ],
      "metadata": {
        "id": "AOKeRqQ5XCA6"
      },
      "execution_count": null,
      "outputs": []
    },
    {
      "cell_type": "code",
      "source": [
        "folds = 10\n",
        "ID3_model = DecisionTreeClassifier(criterion='entropy', random_state = 42)\n",
        "ID3_scores = cross_validate(ID3_model, training_data, training_label, cv=folds, scoring=scoring_metrics, error_score='raise')"
      ],
      "metadata": {
        "id": "LSs0j88MUo60"
      },
      "execution_count": null,
      "outputs": []
    },
    {
      "cell_type": "code",
      "source": [
        "\n",
        "for i in range(folds):\n",
        "    print(f\"Accuracy for fold {i} = {ID3_scores['test_accuracy'][i]}\")\n",
        "    print(f\"Precision for fold {i} = {ID3_scores['test_precision'][i]}\")\n",
        "    print(f\"Recall for fold {i} = {ID3_scores['test_recall'][i]}\")\n",
        "    print(f\"F1-score for fold {i} = {ID3_scores['test_f1'][i]}\")\n",
        "    print(f\"AUC for fold {i} = {ID3_scores['test_roc_auc_score'][i]}\")\n",
        "    print(\"\\n\")\n",
        "\n",
        "\n",
        "print(\"\\nFinal Metrics>>\")\n",
        "print(f\"Accuracy = {sum(ID3_scores['test_accuracy'])/folds}\")\n",
        "print(f\"Precision = {sum(ID3_scores['test_precision'])/folds}\")\n",
        "print(f\"Recall = {sum(ID3_scores['test_recall'])/folds}\")\n",
        "print(f\"F1-score = {sum(ID3_scores['test_f1'])/folds}\")\n",
        "print(f\"AUC = {sum(ID3_scores['test_roc_auc_score'])/folds}\")"
      ],
      "metadata": {
        "colab": {
          "base_uri": "https://localhost:8080/"
        },
        "id": "zUZA_VwKXIk4",
        "outputId": "9c01f6a4-e69c-4bbe-cf5e-ad7e8d67f7fd"
      },
      "execution_count": null,
      "outputs": [
        {
          "output_type": "stream",
          "name": "stdout",
          "text": [
            "Accuracy for fold 0 = 0.6947204791241488\n",
            "Precision for fold 0 = 0.5925706483938278\n",
            "Recall for fold 0 = 0.5868411653655798\n",
            "F1-score for fold 0 = 0.5896919902072625\n",
            "AUC for fold 0 = 0.6729819594723117\n",
            "\n",
            "\n",
            "Accuracy for fold 1 = 0.6359457552118103\n",
            "Precision for fold 1 = 0.5325782641893612\n",
            "Recall for fold 1 = 0.2135313026174805\n",
            "F1-score for fold 1 = 0.30484029573514954\n",
            "AUC for fold 1 = 0.550825962000181\n",
            "\n",
            "\n",
            "Accuracy for fold 2 = 0.6280779721146693\n",
            "Precision for fold 2 = 0.5061129200712662\n",
            "Recall for fold 2 = 0.2101637838665238\n",
            "F1-score for fold 2 = 0.2969986480396575\n",
            "AUC for fold 2 = 0.5438650171236366\n",
            "\n",
            "\n",
            "Accuracy for fold 3 = 0.3248297697838982\n",
            "Precision for fold 3 = 0.21339815335498033\n",
            "Recall for fold 3 = 0.3001173529261697\n",
            "F1-score for fold 3 = 0.249435462496687\n",
            "AUC for fold 3 = 0.31985002583865596\n",
            "\n",
            "\n",
            "Accuracy for fold 4 = 0.650041007839173\n",
            "Precision for fold 4 = 0.5589204973624717\n",
            "Recall for fold 4 = 0.3027450380121435\n",
            "F1-score for fold 4 = 0.3927519443984776\n",
            "AUC for fold 4 = 0.5800581723718957\n",
            "\n",
            "\n",
            "Accuracy for fold 5 = 0.6755104570987154\n",
            "Precision for fold 5 = 0.692204800475589\n",
            "Recall for fold 5 = 0.23763967549364765\n",
            "F1-score for fold 5 = 0.3538125534137309\n",
            "AUC for fold 5 = 0.5872780841410729\n",
            "\n",
            "\n",
            "Accuracy for fold 6 = 0.6482161419838447\n",
            "Precision for fold 6 = 0.7417869847248378\n",
            "Recall for fold 6 = 0.09043828766773815\n",
            "F1-score for fold 6 = 0.1612206380608045\n",
            "AUC for fold 6 = 0.5358221076316728\n",
            "\n",
            "\n",
            "Accuracy for fold 7 = 0.638889153799937\n",
            "Precision for fold 7 = 0.643735173603623\n",
            "Recall for fold 7 = 0.07615184448186132\n",
            "F1-score for fold 7 = 0.1361925402075967\n",
            "AUC for fold 7 = 0.5254957732895303\n",
            "\n",
            "\n",
            "Accuracy for fold 8 = 0.6369913310508597\n",
            "Precision for fold 8 = 0.6225151253241141\n",
            "Recall for fold 8 = 0.07349864789019848\n",
            "F1-score for fold 8 = 0.13147446721124448\n",
            "AUC for fold 8 = 0.5234457402779706\n",
            "\n",
            "\n",
            "Accuracy for fold 9 = 0.6355417377952831\n",
            "Precision for fold 9 = 0.6201911296250919\n",
            "Recall for fold 9 = 0.06457126820930173\n",
            "F1-score for fold 9 = 0.1169647395905541\n",
            "AUC for fold 9 = 0.5204824053504626\n",
            "\n",
            "\n",
            "\n",
            "Final Metrics>>\n",
            "Accuracy = 0.616876380580234\n",
            "Precision = 0.5724013697125163\n",
            "Recall = 0.21556983665306445\n",
            "F1-score = 0.27333832793611645\n",
            "AUC = 0.536010524749739\n"
          ]
        }
      ]
    },
    {
      "cell_type": "markdown",
      "source": [
        "# Decision Tree"
      ],
      "metadata": {
        "id": "Vqup1Kbnaztp"
      }
    },
    {
      "cell_type": "code",
      "source": [
        "folds = 10\n",
        "C45_model = DecisionTreeClassifier(criterion='gini', splitter='best', random_state=42)\n",
        "C45_scores = cross_validate(C45_model, training_data, training_label, cv=folds, scoring=scoring_metrics, error_score='raise')"
      ],
      "metadata": {
        "id": "mKaSOZqmaRrT"
      },
      "execution_count": null,
      "outputs": []
    },
    {
      "cell_type": "code",
      "source": [
        "\n",
        "for i in range(folds):\n",
        "    print(f\"Accuracy for fold {i} = {C45_scores['test_accuracy'][i]}\")\n",
        "    print(f\"Precision for fold {i} = {C45_scores['test_precision'][i]}\")\n",
        "    print(f\"Recall for fold {i} = {C45_scores['test_recall'][i]}\")\n",
        "    print(f\"F1-score for fold {i} = {C45_scores['test_f1'][i]}\")\n",
        "    print(f\"AUC for fold {i} = {C45_scores['test_roc_auc_score'][i]}\")\n",
        "    print(\"\\n\")\n",
        "\n",
        "\n",
        "print(\"\\nFinal Metrics>>\")\n",
        "print(f\"Accuracy = {sum(C45_scores['test_accuracy'])/folds}\")\n",
        "print(f\"Precision = {sum(C45_scores['test_precision'])/folds}\")\n",
        "print(f\"Recall = {sum(C45_scores['test_recall'])/folds}\")\n",
        "print(f\"F1-score = {sum(C45_scores['test_f1'])/folds}\")\n",
        "print(f\"AUC = {sum(C45_scores['test_roc_auc_score'])/folds}\")"
      ],
      "metadata": {
        "colab": {
          "base_uri": "https://localhost:8080/"
        },
        "id": "_CKW7qB_ayWf",
        "outputId": "a690bf31-cff5-47a2-adcb-3ed464ba7e6a"
      },
      "execution_count": null,
      "outputs": [
        {
          "output_type": "stream",
          "name": "stdout",
          "text": [
            "Accuracy for fold 0 = 0.7054015907226916\n",
            "Precision for fold 0 = 0.6069359697227157\n",
            "Recall for fold 0 = 0.6014082351140364\n",
            "F1-score for fold 0 = 0.6041594587321724\n",
            "AUC for fold 0 = 0.6844461218214105\n",
            "\n",
            "\n",
            "Accuracy for fold 1 = 0.6358503881439661\n",
            "Precision for fold 1 = 0.5323053396202371\n",
            "Recall for fold 1 = 0.21312311852645544\n",
            "F1-score for fold 1 = 0.3043795088537492\n",
            "AUC for fold 1 = 0.5506675598724267\n",
            "\n",
            "\n",
            "Accuracy for fold 2 = 0.6281828758892979\n",
            "Precision for fold 2 = 0.5064440898490242\n",
            "Recall for fold 2 = 0.2105209449461707\n",
            "F1-score for fold 2 = 0.29741223960210483\n",
            "AUC for fold 2 = 0.5440207527045811\n",
            "\n",
            "\n",
            "Accuracy for fold 3 = 0.3296744168303801\n",
            "Precision for fold 3 = 0.22100181266713328\n",
            "Recall for fold 3 = 0.31414868105515587\n",
            "F1-score for fold 3 = 0.25946879905601733\n",
            "AUC for fold 3 = 0.32654586047884204\n",
            "\n",
            "\n",
            "Accuracy for fold 4 = 0.6499551774781133\n",
            "Precision for fold 4 = 0.5588221414751545\n",
            "Recall for fold 4 = 0.3021072503699168\n",
            "F1-score for fold 4 = 0.39219063074400967\n",
            "AUC for fold 4 = 0.5798611183314707\n",
            "\n",
            "\n",
            "Accuracy for fold 5 = 0.67561536187379\n",
            "Precision for fold 5 = 0.692656459045637\n",
            "Recall for fold 5 = 0.2377417215164039\n",
            "F1-score for fold 5 = 0.35398465395426576\n",
            "AUC for fold 5 = 0.5873824128683468\n",
            "\n",
            "\n",
            "Accuracy for fold 6 = 0.6483115099611853\n",
            "Precision for fold 6 = 0.7427316460991424\n",
            "Recall for fold 6 = 0.09059135670187254\n",
            "F1-score for fold 6 = 0.16148616385092887\n",
            "AUC for fold 6 = 0.5359291025578234\n",
            "\n",
            "\n",
            "Accuracy for fold 7 = 0.638889153799937\n",
            "Precision for fold 7 = 0.6439835817671203\n",
            "Recall for fold 7 = 0.07604979845910506\n",
            "F1-score for fold 7 = 0.1360348643530244\n",
            "AUC for fold 7 = 0.5254752106872354\n",
            "\n",
            "\n",
            "Accuracy for fold 8 = 0.6370199414440619\n",
            "Precision for fold 8 = 0.6227066695445715\n",
            "Recall for fold 8 = 0.07360069391295475\n",
            "F1-score for fold 8 = 0.13164198854691886\n",
            "AUC for fold 8 = 0.5234891481870779\n",
            "\n",
            "\n",
            "Accuracy for fold 9 = 0.6355894217839534\n",
            "Precision for fold 9 = 0.6196601941747573\n",
            "Recall for fold 9 = 0.06513253565323877\n",
            "F1-score for fold 9 = 0.11787519911351203\n",
            "AUC for fold 9 = 0.5206335843054497\n",
            "\n",
            "\n",
            "\n",
            "Final Metrics>>\n",
            "Accuracy = 0.6184489837927376\n",
            "Precision = 0.5747247903965494\n",
            "Recall = 0.218442433625531\n",
            "F1-score = 0.27586335068067036\n",
            "AUC = 0.5378450871814664\n"
          ]
        }
      ]
    },
    {
      "cell_type": "markdown",
      "source": [
        "# Naive Bayes"
      ],
      "metadata": {
        "id": "hKEdnJkPduaD"
      }
    },
    {
      "cell_type": "code",
      "source": [
        "folds = 10\n",
        "NV_model = GaussianNB()\n",
        "NV_scores = cross_validate(NV_model, training_data, training_label, cv=folds, scoring=scoring_metrics, error_score='raise')"
      ],
      "metadata": {
        "id": "is2ZmiQhbBoC"
      },
      "execution_count": null,
      "outputs": []
    },
    {
      "cell_type": "code",
      "source": [
        "\n",
        "for i in range(folds):\n",
        "    print(f\"Accuracy for fold {i} = {C45_scores['test_accuracy'][i]}\")\n",
        "    print(f\"Precision for fold {i} = {C45_scores['test_precision'][i]}\")\n",
        "    print(f\"Recall for fold {i} = {C45_scores['test_recall'][i]}\")\n",
        "    print(f\"F1-score for fold {i} = {C45_scores['test_f1'][i]}\")\n",
        "    print(f\"AUC for fold {i} = {C45_scores['test_roc_auc_score'][i]}\")\n",
        "    print(\"\\n\")\n",
        "\n",
        "\n",
        "print(\"\\nFinal Metrics>>\")\n",
        "print(f\"Accuracy = {sum(C45_scores['test_accuracy'])/folds}\")\n",
        "print(f\"Precision = {sum(C45_scores['test_precision'])/folds}\")\n",
        "print(f\"Recall = {sum(C45_scores['test_recall'])/folds}\")\n",
        "print(f\"F1-score = {sum(C45_scores['test_f1'])/folds}\")\n",
        "print(f\"AUC = {sum(C45_scores['test_roc_auc_score'])/folds}\")"
      ],
      "metadata": {
        "colab": {
          "base_uri": "https://localhost:8080/"
        },
        "id": "qP2pY2Uheiwn",
        "outputId": "d5e8c7f9-976e-4755-89e0-000529ca71bd"
      },
      "execution_count": null,
      "outputs": [
        {
          "output_type": "stream",
          "name": "stdout",
          "text": [
            "Accuracy for fold 0 = 0.7054015907226916\n",
            "Precision for fold 0 = 0.6069359697227157\n",
            "Recall for fold 0 = 0.6014082351140364\n",
            "F1-score for fold 0 = 0.6041594587321724\n",
            "AUC for fold 0 = 0.6844461218214105\n",
            "\n",
            "\n",
            "Accuracy for fold 1 = 0.6358503881439661\n",
            "Precision for fold 1 = 0.5323053396202371\n",
            "Recall for fold 1 = 0.21312311852645544\n",
            "F1-score for fold 1 = 0.3043795088537492\n",
            "AUC for fold 1 = 0.5506675598724267\n",
            "\n",
            "\n",
            "Accuracy for fold 2 = 0.6281828758892979\n",
            "Precision for fold 2 = 0.5064440898490242\n",
            "Recall for fold 2 = 0.2105209449461707\n",
            "F1-score for fold 2 = 0.29741223960210483\n",
            "AUC for fold 2 = 0.5440207527045811\n",
            "\n",
            "\n",
            "Accuracy for fold 3 = 0.3296744168303801\n",
            "Precision for fold 3 = 0.22100181266713328\n",
            "Recall for fold 3 = 0.31414868105515587\n",
            "F1-score for fold 3 = 0.25946879905601733\n",
            "AUC for fold 3 = 0.32654586047884204\n",
            "\n",
            "\n",
            "Accuracy for fold 4 = 0.6499551774781133\n",
            "Precision for fold 4 = 0.5588221414751545\n",
            "Recall for fold 4 = 0.3021072503699168\n",
            "F1-score for fold 4 = 0.39219063074400967\n",
            "AUC for fold 4 = 0.5798611183314707\n",
            "\n",
            "\n",
            "Accuracy for fold 5 = 0.67561536187379\n",
            "Precision for fold 5 = 0.692656459045637\n",
            "Recall for fold 5 = 0.2377417215164039\n",
            "F1-score for fold 5 = 0.35398465395426576\n",
            "AUC for fold 5 = 0.5873824128683468\n",
            "\n",
            "\n",
            "Accuracy for fold 6 = 0.6483115099611853\n",
            "Precision for fold 6 = 0.7427316460991424\n",
            "Recall for fold 6 = 0.09059135670187254\n",
            "F1-score for fold 6 = 0.16148616385092887\n",
            "AUC for fold 6 = 0.5359291025578234\n",
            "\n",
            "\n",
            "Accuracy for fold 7 = 0.638889153799937\n",
            "Precision for fold 7 = 0.6439835817671203\n",
            "Recall for fold 7 = 0.07604979845910506\n",
            "F1-score for fold 7 = 0.1360348643530244\n",
            "AUC for fold 7 = 0.5254752106872354\n",
            "\n",
            "\n",
            "Accuracy for fold 8 = 0.6370199414440619\n",
            "Precision for fold 8 = 0.6227066695445715\n",
            "Recall for fold 8 = 0.07360069391295475\n",
            "F1-score for fold 8 = 0.13164198854691886\n",
            "AUC for fold 8 = 0.5234891481870779\n",
            "\n",
            "\n",
            "Accuracy for fold 9 = 0.6355894217839534\n",
            "Precision for fold 9 = 0.6196601941747573\n",
            "Recall for fold 9 = 0.06513253565323877\n",
            "F1-score for fold 9 = 0.11787519911351203\n",
            "AUC for fold 9 = 0.5206335843054497\n",
            "\n",
            "\n",
            "\n",
            "Final Metrics>>\n",
            "Accuracy = 0.6184489837927376\n",
            "Precision = 0.5747247903965494\n",
            "Recall = 0.218442433625531\n",
            "F1-score = 0.27586335068067036\n",
            "AUC = 0.5378450871814664\n"
          ]
        }
      ]
    }
  ]
}